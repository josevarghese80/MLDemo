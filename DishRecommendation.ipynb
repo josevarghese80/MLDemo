{
 "cells": [
  {
   "cell_type": "code",
   "execution_count": 2,
   "id": "66465658-2e21-4ab3-8bf8-14cddff25442",
   "metadata": {},
   "outputs": [],
   "source": [
    "import pandas as pd\n",
    "import numpy as np\n",
    "import seaborn as sns\n",
    "import matplotlib.pyplot as plt"
   ]
  },
  {
   "cell_type": "markdown",
   "id": "09211d7c-e484-4a90-8a4c-cb507ffbf433",
   "metadata": {},
   "source": [
    "# Import the Raw CSV File"
   ]
  },
  {
   "cell_type": "code",
   "execution_count": 36,
   "id": "d71364bf-465a-48f4-8f63-272a9adde317",
   "metadata": {},
   "outputs": [],
   "source": [
    "# read the csv file \n",
    "recipes_df = pd.read_csv('recipes_first_30.csv')"
   ]
  },
  {
   "cell_type": "markdown",
   "id": "2bfab9f5-38d5-48a0-88c6-07d9965cc3f7",
   "metadata": {},
   "source": [
    "# Data Cleaning and Prep"
   ]
  },
  {
   "cell_type": "markdown",
   "id": "6d754dd6-06b7-43ad-8e53-4196bb2d008d",
   "metadata": {},
   "source": [
    "## Types of data needed\n",
    "| Data Type                    | Description                                     | Example                                         |\n",
    "| ---------------------------- | ----------------------------------------------- | ----------------------------------------------- |\n",
    "| Dish Metadata                | Name, category, cuisine, description            | “Spaghetti Carbonara”, “Italian”, “Main Course” |\n",
    "| Ingredients                  | List of components per dish                     | “Egg, Parmesan, Pancetta, Spaghetti”            |\n",
    "| Pairings                     | Known good matches                              | “Spaghetti → Garlic Bread”, “Sushi → Miso Soup” |\n",
    "| User Interactions (optional) | Co-selections, purchases, clicks, ratings       | User A selected “Curry” and “Naan”              |\n",
    "| Images (optional)            | Photos of dishes (useful for multimodal models) | JPEG/PNG links                                  |\n",
    "| Nutritional Data             | Calories, macros                                | Optional for health-based pairing logic         |\n",
    "\n",
    "## Data Souurce \n",
    "Food.com Recipes (Kaggle)\n",
    "URL: https://www.kaggle.com/datasets/irkaal/foodcom-recipes-and-reviews\n",
    "\n",
    "Fields: name, ingredients, steps, tags, rating"
   ]
  },
  {
   "cell_type": "markdown",
   "id": "797e19c4-4877-44dd-999c-f75ab8a22361",
   "metadata": {},
   "source": [
    "## Objective\n",
    "\n",
    "Build a clean, enriched dataset from the raw Food.com CSV, optimized for:\n",
    "\n",
    "- Embedding-based dish similarity\n",
    "- NLP-based content filtering\n",
    "- Potential future user-dish interactions"
   ]
  },
  {
   "cell_type": "code",
   "execution_count": 37,
   "id": "dfa6a9a0-d632-490f-b980-d0849dfb5301",
   "metadata": {},
   "outputs": [
    {
     "data": {
      "text/plain": [
       "Index(['RecipeId', 'Name', 'AuthorId', 'AuthorName', 'CookTime', 'PrepTime',\n",
       "       'TotalTime', 'DatePublished', 'Description', 'Images', 'RecipeCategory',\n",
       "       'Keywords', 'RecipeIngredientQuantities', 'RecipeIngredientParts',\n",
       "       'AggregatedRating', 'ReviewCount', 'Calories', 'FatContent',\n",
       "       'SaturatedFatContent', 'CholesterolContent', 'SodiumContent',\n",
       "       'CarbohydrateContent', 'FiberContent', 'SugarContent', 'ProteinContent',\n",
       "       'RecipeServings', 'RecipeYield', 'RecipeInstructions'],\n",
       "      dtype='object')"
      ]
     },
     "execution_count": 37,
     "metadata": {},
     "output_type": "execute_result"
    }
   ],
   "source": [
    "recipes_df.columns"
   ]
  },
  {
   "cell_type": "markdown",
   "id": "5ccbea60-452c-479e-a22d-1b29ebe8e70b",
   "metadata": {},
   "source": [
    "### Step 1\n",
    "SELECT KEY COLUMNS\n",
    "\n",
    "We selected specific columns from the raw dataset that are relevant to the use case:\n",
    "\n",
    "- RecipeId, Name, Description: Basic identifiers and textual content.\n",
    "- RecipeIngredientParts, RecipeIngredientQuantities: Core content of each recipe.\n",
    "- RecipeCategory, Keywords: Help classify dishes by type or tags.\n",
    "- AggregatedRating, ReviewCount: Useful for quality filtering.\n",
    "- Nutrition columns: Used to form a nutrient vector.\n",
    "- We ignore irrelevant columns (e.g., AuthorId, DatePublished, Images) to reduce noise."
   ]
  },
  {
   "cell_type": "code",
   "execution_count": 38,
   "id": "7879dbe2-c1b7-4c01-8804-c273cdc2223b",
   "metadata": {},
   "outputs": [],
   "source": [
    "# Select and rename \n",
    "df_clean = recipes_df[['RecipeId', 'Name', 'Description', 'RecipeIngredientParts',\n",
    "               'RecipeIngredientQuantities', 'RecipeCategory', 'Keywords',\n",
    "               'RecipeInstructions', 'AggregatedRating', 'ReviewCount',\n",
    "               'Calories', 'FatContent', 'ProteinContent', 'CarbohydrateContent']].copy()"
   ]
  },
  {
   "cell_type": "code",
   "execution_count": 33,
   "id": "8ed610d1-13ce-46d0-8956-b856ba165aba",
   "metadata": {},
   "outputs": [
    {
     "data": {
      "text/plain": [
       "14"
      ]
     },
     "execution_count": 33,
     "metadata": {},
     "output_type": "execute_result"
    }
   ],
   "source": [
    "# Genera;l check to see we have the correct column count\n",
    "len(df_clean.columns)"
   ]
  },
  {
   "cell_type": "markdown",
   "id": "f354be62-959c-4170-9786-6ca2ddf0329b",
   "metadata": {},
   "source": [
    "## Step 2\n",
    "\n",
    "Transform the Data\n",
    "- Renamed Columns to normalized, lower-case, consistent field names (dish_id, name, etc.).\n",
    "- Parsed JSON-like strings in columns (RecipeIngredientParts, Keywords) into real Python lists using ast.literal_eval.\n",
    "\n",
    "Renaming provides semantic clarity and consistency throughout the pipeline. The dataset includes list-like fields stored as strings (e.g., \"['chicken', 'garlic']\"), which must be parsed into Python lists so that they’re usable in ML and NLP workflows. These parsed lists are crucial for generating embeddings, filtering, and extracting ingredient features"
   ]
  },
  {
   "cell_type": "code",
   "execution_count": 40,
   "id": "20ee8f2e-1221-4ee9-83eb-b9676023c9eb",
   "metadata": {},
   "outputs": [],
   "source": [
    "# Rename the data\n",
    "df_clean.rename(columns={\n",
    "    'RecipeId': 'dish_id',\n",
    "    'Name': 'name',\n",
    "    'Description': 'description',\n",
    "    'RecipeIngredientParts': 'ingredients',\n",
    "    'RecipeIngredientQuantities': 'ingredient_qty',\n",
    "    'RecipeCategory': 'category',\n",
    "    'Keywords': 'tags',\n",
    "    'RecipeInstructions': 'instructions',\n",
    "    'AggregatedRating': 'rating',\n",
    "    'ReviewCount': 'review_count'\n",
    "}, inplace=True)"
   ]
  },
  {
   "cell_type": "code",
   "execution_count": 41,
   "id": "1cecc2f7-8c5f-4576-8425-7d4b25a252c2",
   "metadata": {},
   "outputs": [],
   "source": [
    "# # Parse stringified lists\n",
    "import ast\n",
    "import re\n",
    "\n",
    "# # def safe_literal_eval(val):\n",
    "# #     try:\n",
    "# #         return ast.literal_eval(val)\n",
    "# #     except Exception as e:\n",
    "# #         print(f\"Failed to parse: {val}\\nError: {e}\")\n",
    "# #         return None\n",
    "\n",
    "def convert_r_list_to_python(val):\n",
    "    # Handle NaN, None\n",
    "    if val is None or isinstance(val, float) and np.isnan(val):\n",
    "        return []\n",
    "\n",
    "    # Handle already-structured input\n",
    "    if isinstance(val, (list, np.ndarray)):\n",
    "        return list(val)\n",
    "\n",
    "    # Handle string input\n",
    "    if isinstance(val, str):\n",
    "        val = val.strip()\n",
    "        if val == \"\" or val.lower() in (\"none\", \"nan\"):\n",
    "            return []\n",
    "\n",
    "        # Convert R-style syntax\n",
    "        if val.startswith(\"c(\") and val.endswith(\")\"):\n",
    "            val = re.sub(r'^c\\((.*)\\)$', r'[\\1]', val)\n",
    "\n",
    "        # Replace unquoted NA with None\n",
    "        val = re.sub(r'\\bNA\\b', 'None', val)\n",
    "\n",
    "        try:\n",
    "            result = ast.literal_eval(val)\n",
    "            return list(result) if isinstance(result, (tuple, set)) else result\n",
    "        except Exception as e:\n",
    "            print(f\"Failed to parse: {val}\\nError: {e}\")\n",
    "            return []\n",
    "\n",
    "    return []\n",
    "\n",
    "# Apply to each column safely\n",
    "df_clean['ingredients'] = df_clean['ingredients'].apply(convert_r_list_to_python)\n",
    "df_clean['ingredient_qty'] = df_clean['ingredient_qty'].apply(convert_r_list_to_python)\n",
    "df_clean['tags'] = df_clean['tags'].apply(lambda x: convert_r_list_to_python(x) if x is not None and not (isinstance(x, float) and np.isnan(x)) else [])\n",
    "\n",
    "\n",
    "# Combine nutrients into a dictionary\n",
    "df_clean['nutrients'] = df_clean.apply(lambda row: {\n",
    "    'calories': row.get('Calories'),\n",
    "    'protein': row.get('ProteinContent'),\n",
    "    'fat': row.get('FatContent'),\n",
    "    'carbs': row.get('CarbohydrateContent')\n",
    "}, axis=1)\n",
    "\n",
    "# Drop individual nutrient cols\n",
    "df_clean.drop(columns=['Calories', 'ProteinContent', 'FatContent', 'CarbohydrateContent'], inplace=True)"
   ]
  }
 ],
 "metadata": {
  "kernelspec": {
   "display_name": "Python 3 (ipykernel)",
   "language": "python",
   "name": "python3"
  },
  "language_info": {
   "codemirror_mode": {
    "name": "ipython",
    "version": 3
   },
   "file_extension": ".py",
   "mimetype": "text/x-python",
   "name": "python",
   "nbconvert_exporter": "python",
   "pygments_lexer": "ipython3",
   "version": "3.13.2"
  }
 },
 "nbformat": 4,
 "nbformat_minor": 5
}
