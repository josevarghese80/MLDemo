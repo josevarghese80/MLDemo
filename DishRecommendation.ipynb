{
 "cells": [
  {
   "cell_type": "code",
   "execution_count": 6,
   "id": "66465658-2e21-4ab3-8bf8-14cddff25442",
   "metadata": {},
   "outputs": [],
   "source": [
    "import pandas as pd\n",
    "import numpy as np\n",
    "import seaborn as sns\n",
    "import matplotlib.pyplot as plt"
   ]
  },
  {
   "cell_type": "markdown",
   "id": "09211d7c-e484-4a90-8a4c-cb507ffbf433",
   "metadata": {},
   "source": [
    "# Import the Raw CSV File"
   ]
  },
  {
   "cell_type": "code",
   "execution_count": 7,
   "id": "d71364bf-465a-48f4-8f63-272a9adde317",
   "metadata": {},
   "outputs": [],
   "source": [
    "# read the csv file \n",
    "recipes_df = pd.read_csv('recipes_first_30.csv')"
   ]
  },
  {
   "cell_type": "markdown",
   "id": "2bfab9f5-38d5-48a0-88c6-07d9965cc3f7",
   "metadata": {},
   "source": [
    "# Data Cleaning and Prep"
   ]
  },
  {
   "cell_type": "markdown",
   "id": "6d754dd6-06b7-43ad-8e53-4196bb2d008d",
   "metadata": {},
   "source": [
    "## Types of data needed\n",
    "| Data Type                    | Description                                     | Example                                         |\n",
    "| ---------------------------- | ----------------------------------------------- | ----------------------------------------------- |\n",
    "| Dish Metadata                | Name, category, cuisine, description            | “Spaghetti Carbonara”, “Italian”, “Main Course” |\n",
    "| Ingredients                  | List of components per dish                     | “Egg, Parmesan, Pancetta, Spaghetti”            |\n",
    "| Pairings                     | Known good matches                              | “Spaghetti → Garlic Bread”, “Sushi → Miso Soup” |\n",
    "| User Interactions (optional) | Co-selections, purchases, clicks, ratings       | User A selected “Curry” and “Naan”              |\n",
    "| Images (optional)            | Photos of dishes (useful for multimodal models) | JPEG/PNG links                                  |\n",
    "| Nutritional Data             | Calories, macros                                | Optional for health-based pairing logic         |\n",
    "\n",
    "## Data Souurce \n",
    "Food.com Recipes (Kaggle)\n",
    "URL: https://www.kaggle.com/datasets/irkaal/foodcom-recipes-and-reviews\n",
    "\n",
    "Fields: name, ingredients, steps, tags, rating"
   ]
  },
  {
   "cell_type": "markdown",
   "id": "797e19c4-4877-44dd-999c-f75ab8a22361",
   "metadata": {},
   "source": [
    "## Objective\n",
    "\n",
    "Build a clean, enriched dataset from the raw Food.com CSV, optimized for:\n",
    "\n",
    "- Embedding-based dish similarity\n",
    "- NLP-based content filtering\n",
    "- Potential future user-dish interactions"
   ]
  },
  {
   "cell_type": "code",
   "execution_count": 8,
   "id": "dfa6a9a0-d632-490f-b980-d0849dfb5301",
   "metadata": {},
   "outputs": [
    {
     "data": {
      "text/plain": [
       "Index(['RecipeId', 'Name', 'AuthorId', 'AuthorName', 'CookTime', 'PrepTime',\n",
       "       'TotalTime', 'DatePublished', 'Description', 'Images', 'RecipeCategory',\n",
       "       'Keywords', 'RecipeIngredientQuantities', 'RecipeIngredientParts',\n",
       "       'AggregatedRating', 'ReviewCount', 'Calories', 'FatContent',\n",
       "       'SaturatedFatContent', 'CholesterolContent', 'SodiumContent',\n",
       "       'CarbohydrateContent', 'FiberContent', 'SugarContent', 'ProteinContent',\n",
       "       'RecipeServings', 'RecipeYield', 'RecipeInstructions'],\n",
       "      dtype='object')"
      ]
     },
     "execution_count": 8,
     "metadata": {},
     "output_type": "execute_result"
    }
   ],
   "source": [
    "recipes_df.columns"
   ]
  },
  {
   "cell_type": "markdown",
   "id": "5ccbea60-452c-479e-a22d-1b29ebe8e70b",
   "metadata": {},
   "source": [
    "### Step 1\n",
    "SELECT KEY COLUMNS\n",
    "\n",
    "We selected specific columns from the raw dataset that are relevant to the use case:\n",
    "\n",
    "- RecipeId, Name, Description: Basic identifiers and textual content.\n",
    "- RecipeIngredientParts, RecipeIngredientQuantities: Core content of each recipe.\n",
    "- RecipeCategory, Keywords: Help classify dishes by type or tags.\n",
    "- AggregatedRating, ReviewCount: Useful for quality filtering.\n",
    "- Nutrition columns: Used to form a nutrient vector.\n",
    "- We ignore irrelevant columns (e.g., AuthorId, DatePublished, Images) to reduce noise."
   ]
  },
  {
   "cell_type": "code",
   "execution_count": 9,
   "id": "7879dbe2-c1b7-4c01-8804-c273cdc2223b",
   "metadata": {},
   "outputs": [],
   "source": [
    "# Select and rename \n",
    "df_clean = recipes_df[['RecipeId', 'Name', 'Description', 'RecipeIngredientParts',\n",
    "               'RecipeIngredientQuantities', 'RecipeCategory', 'Keywords',\n",
    "               'RecipeInstructions', 'AggregatedRating', 'ReviewCount',\n",
    "               'Calories', 'FatContent', 'ProteinContent', 'CarbohydrateContent']].copy()"
   ]
  },
  {
   "cell_type": "code",
   "execution_count": 33,
   "id": "8ed610d1-13ce-46d0-8956-b856ba165aba",
   "metadata": {},
   "outputs": [
    {
     "data": {
      "text/plain": [
       "14"
      ]
     },
     "execution_count": 33,
     "metadata": {},
     "output_type": "execute_result"
    }
   ],
   "source": [
    "# Genera;l check to see we have the correct column count\n",
    "len(df_clean.columns)"
   ]
  },
  {
   "cell_type": "markdown",
   "id": "f354be62-959c-4170-9786-6ca2ddf0329b",
   "metadata": {},
   "source": [
    "## Step 2\n",
    "\n",
    "Transform the Data\n",
    "- Renamed Columns to normalized, lower-case, consistent field names (dish_id, name, etc.).\n",
    "- Parsed JSON-like strings in columns (RecipeIngredientParts, Keywords) into real Python lists using ast.literal_eval.\n",
    "\n",
    "Renaming provides semantic clarity and consistency throughout the pipeline. The dataset includes list-like fields stored as strings (e.g., \"['chicken', 'garlic']\"), which must be parsed into Python lists so that they’re usable in ML and NLP workflows. These parsed lists are crucial for generating embeddings, filtering, and extracting ingredient features"
   ]
  },
  {
   "cell_type": "code",
   "execution_count": 10,
   "id": "20ee8f2e-1221-4ee9-83eb-b9676023c9eb",
   "metadata": {},
   "outputs": [],
   "source": [
    "# Rename the data\n",
    "df_clean.rename(columns={\n",
    "    'RecipeId': 'dish_id',\n",
    "    'Name': 'name',\n",
    "    'Description': 'description',\n",
    "    'RecipeIngredientParts': 'ingredients',\n",
    "    'RecipeIngredientQuantities': 'ingredient_qty',\n",
    "    'RecipeCategory': 'category',\n",
    "    'Keywords': 'tags',\n",
    "    'RecipeInstructions': 'instructions',\n",
    "    'AggregatedRating': 'rating',\n",
    "    'ReviewCount': 'review_count'\n",
    "}, inplace=True)"
   ]
  },
  {
   "cell_type": "code",
   "execution_count": 11,
   "id": "1cecc2f7-8c5f-4576-8425-7d4b25a252c2",
   "metadata": {},
   "outputs": [],
   "source": [
    "# # Parse stringified lists\n",
    "import ast\n",
    "import re\n",
    "\n",
    "# # def safe_literal_eval(val):\n",
    "# #     try:\n",
    "# #         return ast.literal_eval(val)\n",
    "# #     except Exception as e:\n",
    "# #         print(f\"Failed to parse: {val}\\nError: {e}\")\n",
    "# #         return None\n",
    "\n",
    "def convert_r_list_to_python(val):\n",
    "    # Handle NaN, None\n",
    "    if val is None or isinstance(val, float) and np.isnan(val):\n",
    "        return []\n",
    "\n",
    "    # Handle already-structured input\n",
    "    if isinstance(val, (list, np.ndarray)):\n",
    "        return list(val)\n",
    "\n",
    "    # Handle string input\n",
    "    if isinstance(val, str):\n",
    "        val = val.strip()\n",
    "        if val == \"\" or val.lower() in (\"none\", \"nan\"):\n",
    "            return []\n",
    "\n",
    "        # Convert R-style syntax\n",
    "        if val.startswith(\"c(\") and val.endswith(\")\"):\n",
    "            val = re.sub(r'^c\\((.*)\\)$', r'[\\1]', val)\n",
    "\n",
    "        # Replace unquoted NA with None\n",
    "        val = re.sub(r'\\bNA\\b', 'None', val)\n",
    "\n",
    "        try:\n",
    "            result = ast.literal_eval(val)\n",
    "            return list(result) if isinstance(result, (tuple, set)) else result\n",
    "        except Exception as e:\n",
    "            print(f\"Failed to parse: {val}\\nError: {e}\")\n",
    "            return []\n",
    "\n",
    "    return []\n",
    "\n",
    "# Apply to each column safely\n",
    "df_clean['ingredients'] = df_clean['ingredients'].apply(convert_r_list_to_python)\n",
    "df_clean['ingredient_qty'] = df_clean['ingredient_qty'].apply(convert_r_list_to_python)\n",
    "df_clean['tags'] = df_clean['tags'].apply(lambda x: convert_r_list_to_python(x) if x is not None and not (isinstance(x, float) and np.isnan(x)) else [])\n",
    "\n",
    "\n",
    "# Combine nutrients into a dictionary\n",
    "df_clean['nutrients'] = df_clean.apply(lambda row: {\n",
    "    'calories': row.get('Calories'),\n",
    "    'protein': row.get('ProteinContent'),\n",
    "    'fat': row.get('FatContent'),\n",
    "    'carbs': row.get('CarbohydrateContent')\n",
    "}, axis=1)\n",
    "\n",
    "# Drop individual nutrient cols\n",
    "df_clean.drop(columns=['Calories', 'ProteinContent', 'FatContent', 'CarbohydrateContent'], inplace=True)"
   ]
  },
  {
   "cell_type": "markdown",
   "id": "564914f9-fd88-48fb-95ee-9ff8d1300264",
   "metadata": {},
   "source": [
    "## STEP 3 \n",
    "\n",
    "Filter and Clean\n",
    "\n",
    "- Drop recipes with fewer than 3 ingredients as they often lack substance or are incomplete\n",
    "- Remove low-reviewed dishes (e.g., review_count < 5).Low review count usually means the data is less reliable or popular.\n",
    "- Keep only recipes with non-null ratings. Filtering helps improve signal-to-noise ratio, ensuring that downstream training (especially if supervised) works with meaningful examples."
   ]
  },
  {
   "cell_type": "code",
   "execution_count": 12,
   "id": "d043ffab-d458-4099-84a3-562f44b0185b",
   "metadata": {},
   "outputs": [],
   "source": [
    "df_clean = df_clean[df_clean['ingredients'].apply(len) > 2]\n",
    "df_clean = df_clean[df_clean['review_count'] >= 5]\n",
    "df_clean = df_clean[df_clean['rating'].notnull()]"
   ]
  },
  {
   "cell_type": "markdown",
   "id": "8f4dfc37-a049-4035-8da3-169ab3f6d952",
   "metadata": {},
   "source": [
    "## STEP 4\n",
    "\n",
    "Feature Enrichment\n",
    "\n",
    "Combine name + description + ingredients into a single string for embeddings\n",
    "- Embedding models (especially sentence transformers or LLMs) perform best when given rich, contextually complete text\n",
    "- By concatenating the dish name, description, and ingredient list, we form a comprehensive textual representation for each dish\n",
    "- This can then be used to:\n",
    "   - Generate embeddings\n",
    "   - Perform semantic search\n",
    "   - Measure cosine similarity between dishes"
   ]
  },
  {
   "cell_type": "code",
   "execution_count": 13,
   "id": "7cacc7b2-39a5-4d78-a59d-8d118c92685b",
   "metadata": {},
   "outputs": [],
   "source": [
    "df_clean['embedding_text'] = df_clean.apply(lambda row: \n",
    "    f\"{row['name']}. {row['description'] or ''}. Ingredients: {', '.join(row['ingredients'])}.\", axis=1)\n"
   ]
  },
  {
   "cell_type": "markdown",
   "id": "c3f5ed41-22b6-447d-b4da-9524ddc89984",
   "metadata": {},
   "source": [
    "##  STEP 5\n",
    "\n",
    "Export the date to S3 for Model Training. Amazon SageMaker and other AWS ML services ingest data from S3.\n",
    "We save the data in a JSON Lines (JSONL) format. Using JSON Lines format makes it easy as shown in the below table\n",
    "\n",
    "| Feature                | Benefit                                                         |\n",
    "| ---------------------- | --------------------------------------------------------------- |\n",
    "| **Streaming-friendly** | Easily read one line at a time, ideal for huge files            |\n",
    "| **Parallelizable**     | Lines can be processed independently in distributed systems     |\n",
    "| **Fault-tolerant**     | Corruption in one line doesn't break the rest of the file       |\n",
    "| **Compatible**         | Works well with tools like `jq`, `pandas`, `Spark`, `SageMaker` |\n",
    "| **Efficient**          | Append new records without rewriting the entire file            |\n"
   ]
  },
  {
   "cell_type": "code",
   "execution_count": 14,
   "id": "50b8da14-72af-42b4-a09f-0f3a0134459c",
   "metadata": {},
   "outputs": [],
   "source": [
    "df_clean.to_json('cleaned_dishes.json', orient='records', lines=True)"
   ]
  },
  {
   "cell_type": "markdown",
   "id": "ae21c4ee-eadc-423c-865a-e2a5cc4453e5",
   "metadata": {},
   "source": [
    "## Step 6\n",
    "\n",
    "Explore the dataset. "
   ]
  },
  {
   "cell_type": "code",
   "execution_count": 18,
   "id": "260ed186-b22a-4834-bfdd-0cadc80a4ef0",
   "metadata": {},
   "outputs": [
    {
     "data": {
      "text/plain": [
       "<Axes: >"
      ]
     },
     "execution_count": 18,
     "metadata": {},
     "output_type": "execute_result"
    },
    {
     "data": {
      "image/png": "[encoded data removed]",
      "text/plain": [
       "<Figure size 640x480 with 1 Axes>"
      ]
     },
     "metadata": {},
     "output_type": "display_data"
    }
   ],
   "source": [
    "# If there are any null values the will show up as a brighter color. In this case we have no null\n",
    "sns.heatmap(df_clean.isnull(), cbar = False)\n"
   ]
  },
  {
   "cell_type": "code",
   "execution_count": 16,
   "id": "bc8dc060-656d-4d5d-9888-9283f7c416c0",
   "metadata": {},
   "outputs": [
    {
     "data": {
      "text/plain": [
       "dish_id           0\n",
       "name              0\n",
       "description       0\n",
       "ingredients       0\n",
       "ingredient_qty    0\n",
       "category          0\n",
       "tags              0\n",
       "instructions      0\n",
       "rating            0\n",
       "review_count      0\n",
       "nutrients         0\n",
       "embedding_text    0\n",
       "dtype: int64"
      ]
     },
     "execution_count": 16,
     "metadata": {},
     "output_type": "execute_result"
    }
   ],
   "source": [
    "# We can confirm non nulls further using the below check \n",
    "df_clean.isnull().sum()"
   ]
  },
  {
   "cell_type": "code",
   "execution_count": 19,
   "id": "73e0082b-ffb3-4691-ad3a-62489a721008",
   "metadata": {},
   "outputs": [
    {
     "data": {
      "text/html": [
       "<div>\n",
       "<style scoped>\n",
       "    .dataframe tbody tr th:only-of-type {\n",
       "        vertical-align: middle;\n",
       "    }\n",
       "\n",
       "    .dataframe tbody tr th {\n",
       "        vertical-align: top;\n",
       "    }\n",
       "\n",
       "    .dataframe thead th {\n",
       "        text-align: right;\n",
       "    }\n",
       "</style>\n",
       "<table border=\"1\" class=\"dataframe\">\n",
       "  <thead>\n",
       "    <tr style=\"text-align: right;\">\n",
       "      <th></th>\n",
       "      <th>dish_id</th>\n",
       "      <th>rating</th>\n",
       "      <th>review_count</th>\n",
       "    </tr>\n",
       "  </thead>\n",
       "  <tbody>\n",
       "    <tr>\n",
       "      <th>count</th>\n",
       "      <td>9.000000</td>\n",
       "      <td>9.000000</td>\n",
       "      <td>9.000000</td>\n",
       "    </tr>\n",
       "    <tr>\n",
       "      <th>mean</th>\n",
       "      <td>52.333333</td>\n",
       "      <td>4.833333</td>\n",
       "      <td>33.555556</td>\n",
       "    </tr>\n",
       "    <tr>\n",
       "      <th>std</th>\n",
       "      <td>9.137833</td>\n",
       "      <td>0.250000</td>\n",
       "      <td>51.872707</td>\n",
       "    </tr>\n",
       "    <tr>\n",
       "      <th>min</th>\n",
       "      <td>40.000000</td>\n",
       "      <td>4.500000</td>\n",
       "      <td>7.000000</td>\n",
       "    </tr>\n",
       "    <tr>\n",
       "      <th>25%</th>\n",
       "      <td>44.000000</td>\n",
       "      <td>4.500000</td>\n",
       "      <td>11.000000</td>\n",
       "    </tr>\n",
       "    <tr>\n",
       "      <th>50%</th>\n",
       "      <td>54.000000</td>\n",
       "      <td>5.000000</td>\n",
       "      <td>19.000000</td>\n",
       "    </tr>\n",
       "    <tr>\n",
       "      <th>75%</th>\n",
       "      <td>58.000000</td>\n",
       "      <td>5.000000</td>\n",
       "      <td>23.000000</td>\n",
       "    </tr>\n",
       "    <tr>\n",
       "      <th>max</th>\n",
       "      <td>66.000000</td>\n",
       "      <td>5.000000</td>\n",
       "      <td>171.000000</td>\n",
       "    </tr>\n",
       "  </tbody>\n",
       "</table>\n",
       "</div>"
      ],
      "text/plain": [
       "         dish_id    rating  review_count\n",
       "count   9.000000  9.000000      9.000000\n",
       "mean   52.333333  4.833333     33.555556\n",
       "std     9.137833  0.250000     51.872707\n",
       "min    40.000000  4.500000      7.000000\n",
       "25%    44.000000  4.500000     11.000000\n",
       "50%    54.000000  5.000000     19.000000\n",
       "75%    58.000000  5.000000     23.000000\n",
       "max    66.000000  5.000000    171.000000"
      ]
     },
     "execution_count": 19,
     "metadata": {},
     "output_type": "execute_result"
    }
   ],
   "source": [
    "# Statistical summary of the dataframe\n",
    "df_clean.describe()"
   ]
  },
  {
   "cell_type": "markdown",
   "id": "b3fa948c-324f-448e-9a13-d455b940a0a9",
   "metadata": {},
   "source": [
    "We would like to check for duplicates and remove them. To do this we call df_clean.duplicated().\n",
    "The function duplicated requires all columns to contain hashable types (e.g., strings, numbers, tuples). \n",
    "Lists and dictionaries are unhashable, so duplicated() fails if your DataFrame has columns with lists. To fix this\n",
    "\n",
    "- Find all columns with lists or dictionaries\n",
    "- Make a deep copy of your dataframe\n",
    "- Convert the list or dictionary column to tuples and update you copy df\n",
    "- run the duplicated().sum() on the copy df"
   ]
  },
  {
   "cell_type": "code",
   "execution_count": 27,
   "id": "922931fe-05af-4b14-9766-2227859f0bb4",
   "metadata": {},
   "outputs": [
    {
     "name": "stdout",
     "output_type": "stream",
     "text": [
      "Columns with lists: ['ingredients', 'ingredient_qty', 'tags']\n",
      "Columns with dictionaries: ['nutrients']\n",
      "All complex columns (lists or dicts): ['ingredients', 'ingredient_qty', 'nutrients', 'tags']\n"
     ]
    }
   ],
   "source": [
    "# Find all the columns with lists or dictionaries\n",
    "list_columns = []\n",
    "dict_columns = []\n",
    "\n",
    "for col in df_clean.columns:\n",
    "    sample = df_clean[col].dropna().head(10)  # check first 10 non-null rows\n",
    "    if sample.apply(lambda x: isinstance(x, list)).any():\n",
    "        list_columns.append(col)\n",
    "    if sample.apply(lambda x: isinstance(x, dict)).any():\n",
    "        dict_columns.append(col)\n",
    "\n",
    "# Combine and deduplicate\n",
    "complex_columns = list(set(list_columns + dict_columns))\n",
    "\n",
    "print(\"Columns with lists:\", list_columns)\n",
    "print(\"Columns with dictionaries:\", dict_columns)\n",
    "print(\"All complex columns (lists or dicts):\", complex_columns)"
   ]
  },
  {
   "cell_type": "markdown",
   "id": "19bb8c0f-aab1-4bc5-b51e-f849ea81b093",
   "metadata": {},
   "source": [
    "### Once you have the columns with Lists or dictionaries convert these to tuples temporarily"
   ]
  },
  {
   "cell_type": "code",
   "execution_count": 36,
   "id": "e5c7eb19-1233-4e02-a4ad-76efb6aa7e20",
   "metadata": {},
   "outputs": [
    {
     "name": "stdout",
     "output_type": "stream",
     "text": [
      "Duplicate rows: 0\n"
     ]
    }
   ],
   "source": [
    "# Make a deep copy of your dataframe\n",
    "\n",
    "df_temp = df_clean.copy() \n",
    "\n",
    "# Convert the list or dictionary column to tuples and update you copy df\n",
    "for col in complex_columns:\n",
    "    df_temp[col] = df_temp[col].apply(lambda x: tuple(x) if isinstance(x, (list, dict)) else x)\n",
    "\n",
    "# run the duplicated().sum() on the copy df\n",
    "duplicate_count = df_temp.duplicated().sum()\n",
    "\n",
    "print(f\"Duplicate rows: {duplicate_count}\")"
   ]
  }
 ],
 "metadata": {
  "kernelspec": {
   "display_name": "Python 3 (ipykernel)",
   "language": "python",
   "name": "python3"
  },
  "language_info": {
   "codemirror_mode": {
    "name": "ipython",
    "version": 3
   },
   "file_extension": ".py",
   "mimetype": "text/x-python",
   "name": "python",
   "nbconvert_exporter": "python",
   "pygments_lexer": "ipython3",
   "version": "3.13.2"
  }
 },
 "nbformat": 4,
 "nbformat_minor": 5
}
